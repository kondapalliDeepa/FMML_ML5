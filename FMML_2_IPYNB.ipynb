{
  "cells": [
    {
      "cell_type": "markdown",
      "metadata": {
        "id": "view-in-github",
        "colab_type": "text"
      },
      "source": [
        "<a href=\"https://colab.research.google.com/github/kondapalliDeepa/FMML_ML5/blob/main/FMML_2_IPYNB.ipynb\" target=\"_parent\"><img src=\"https://colab.research.google.com/assets/colab-badge.svg\" alt=\"Open In Colab\"/></a>"
      ]
    },
    {
      "cell_type": "markdown",
      "metadata": {
        "id": "mU9LZjQxiQT2"
      },
      "source": [
        "# Transforming data using linear algebra\n",
        "\n",
        "FMML Module 1, Lab 4\n",
        "\n",
        "Matrix transformations are at the heart of many machine learning algorithms. In this lab, we'll visualize the effect of some simple transformations on a unit square and then visualize it using the MNIST dataset. We also see what data normalization means and how it can help in improving the accuracy of machine learning models."
      ]
    },
    {
      "cell_type": "code",
      "execution_count": null,
      "metadata": {
        "id": "KBe4ZA32UTbv"
      },
      "outputs": [],
      "source": [
        "import numpy as np\n",
        "import matplotlib.pyplot as plt\n",
        "from keras.datasets import mnist"
      ]
    },
    {
      "cell_type": "code",
      "execution_count": null,
      "metadata": {
        "cellView": "form",
        "id": "7mqG-dafVpya"
      },
      "outputs": [],
      "source": [
        "# You don't need to understand these functions\n",
        "\n",
        "\n",
        "def plotGrid(transform, unit, linestyle=\":\", fig=None, ax=None):\n",
        "    lim1 = -100\n",
        "    lim2 = 100\n",
        "\n",
        "    def mat2xy(start, end):\n",
        "        if len(start.shape) == 1:\n",
        "            start = np.expand_dims(start, 0)\n",
        "            end = np.expand_dims(end, 0)\n",
        "        nan = np.ones(len(start)) * np.nan\n",
        "        x = np.stack((start[:, 0], end[:, 0], nan)).T.reshape(-1)\n",
        "        y = np.stack((start[:, 1], end[:, 1], nan)).T.reshape(-1)\n",
        "        return x, y\n",
        "\n",
        "    def parallellines(axis, addend, lines, unit):\n",
        "        addend = np.repeat(np.expand_dims(addend, 0), lines * 2, 0)\n",
        "        unit = np.expand_dims(np.arange(-lines, lines) * unit, 1)\n",
        "        unit = unit - lines\n",
        "        addend = addend * unit\n",
        "        lines = np.expand_dims(axis, 0) + addend\n",
        "        return np.concatenate((lines, lines * -1))\n",
        "\n",
        "    if fig is None:\n",
        "        fig, ax = plt.subplots(figsize=(5, 5))\n",
        "    transform = transform.astype(float)\n",
        "    xaxis = transform[0]\n",
        "    yaxis = transform[1]\n",
        "\n",
        "    # plot lines parallel to the x axis\n",
        "    lines1 = parallellines(xaxis * lim1, yaxis, 100, unit)\n",
        "    lines2 = parallellines(xaxis * lim2, yaxis, 100, unit)\n",
        "    x, y = mat2xy(lines1, lines2)\n",
        "    plt.plot(x, y, linestyle + \"k\", linewidth=0.5)\n",
        "    # plot x axis\n",
        "    x, y = mat2xy(xaxis * lim1, xaxis * lim2)\n",
        "    plt.plot(x, y, linestyle, color=\"#440077\")\n",
        "\n",
        "    # plot  lines parallel to the y axis\n",
        "    lines1 = parallellines(yaxis * lim1, xaxis, 100, unit)\n",
        "    lines2 = parallellines(yaxis * lim2, xaxis, 100, unit)\n",
        "    x, y = mat2xy(lines1, lines2)\n",
        "    plt.plot(x, y, linestyle + \"k\", linewidth=0.5)\n",
        "    # plot y axis\n",
        "    x, y = mat2xy(yaxis * lim1, yaxis * lim2)\n",
        "    plt.plot(x, y, linestyle, color=\"#aa5500\")\n",
        "\n",
        "    return fig, ax\n",
        "\n",
        "\n",
        "def plotData(X, y, xlabel=\"hole\", ylabel=\"bound\", fig=None, ax=None):\n",
        "    if fig is None:\n",
        "        fig, ax = plt.subplots()\n",
        "    for ii in range(nclasses):\n",
        "        plt.scatter(X[y == ii, 0], X[y == ii, 1])\n",
        "    plt.legend([str(i) for i in range(nclasses)])\n",
        "    plt.xlabel(xlabel)\n",
        "    plt.ylabel(ylabel)\n",
        "    lim2 = X.max()\n",
        "    lim1 = X.min()\n",
        "    return fig, ax"
      ]
    },
    {
      "cell_type": "markdown",
      "metadata": {
        "id": "9d5dmEXxaktp"
      },
      "source": [
        "## Matrix transformations on data\n",
        "\n",
        "Note: This lab involves a lot of matrix operations. If you are not familiar with them, please go through the resources given in class before proceeding. You can also review Khan Academy's excellent linear algebra [resources](https://www.khanacademy.org/math/linear-algebra/matrix-transformations).\n",
        "\n",
        "A 2D coordinate system is defined by its basis vectors, i and j. Any point in this 2D space can be represented as a linear combination of these basis vectors. For example, the point (a,b) can be represented as:\n",
        "\n",
        "$$\\begin{equation}\n",
        "\\left\\{  \\begin{aligned}a \\\\ b \\end{aligned} \\right\\} = a\\left\\{  \\begin{aligned}1 \\\\ 0 \\end{aligned} \\right\\} + b\\left\\{  \\begin{aligned}0 \\\\ 1 \\end{aligned} \\right\\} = a\\hat{i} + b\\hat{j}\n",
        "\\end{equation}$$\n",
        "\n",
        "A matrix can be used to perform a linear transformation on the basis vectors. The new basis vectors $\\hat{i}$ and $\\hat{j}$ are given by the product of the matrix and the basis vectors of the standard coordinate system.\n",
        "\n",
        "In the standard coordinate system (Let us call it T0), the basis vectors are\n",
        "\n",
        "$$\\begin{equation}\n",
        "i = \\left\\{  \\begin{aligned}1 \\\\ 0 \\end{aligned} \\right\\}\n",
        "\\end{equation}$$\n",
        "and\n",
        "$$\\begin{equation} j = \\left\\{ \\begin{aligned} 0 \\\\ 1\\end{aligned} \\right\\} \\end{equation}$$\n",
        "\n",
        "We can use any two vectors as basis vectors for a new coordinate system as long as they are not colinear. For example, let us call this new coordinate system T1:\n",
        "\n",
        "$$\\begin{equation}\n",
        "i = \\left\\{  \\begin{aligned}1 \\\\ -1 \\end{aligned} \\right\\}\n",
        "\\end{equation}$$\n",
        "and\n",
        "$$\\begin{equation} j = \\left\\{ \\begin{aligned} 0 \\\\ 2 \\end{aligned} \\right\\} \\end{equation}$$\n",
        "\n",
        "Suppose we have a point [a,b] in the T1 coordinate system. Its representation in the standard system T0 can be obtained by the following matrix multiplication:\n",
        "\n",
        "$$ \\begin{equation}\n",
        "\\left\\{  \\begin{aligned}a' \\\\ b' \\end{aligned} \\right\\} =\n",
        "\\left\\{  \\begin{aligned}&1 & 0 \\\\ -&1 & 2 \\end{aligned} \\right\\}\n",
        "\\left\\{  \\begin{aligned}a \\\\ b \\end{aligned} \\right\\}\n",
        "\\end{equation}$$\n",
        "where the columns of the matrix are the basis vectors of T1.\n",
        "\n",
        "\n",
        "Let us see this in action:\n"
      ]
    },
    {
      "cell_type": "code",
      "execution_count": null,
      "metadata": {
        "colab": {
          "base_uri": "https://localhost:8080/"
        },
        "id": "K8SCFKqfbM-l",
        "outputId": "ade26349-e8fb-4cc8-83d7-6c6df7d3604b"
      },
      "outputs": [
        {
          "output_type": "stream",
          "name": "stdout",
          "text": [
            "Data in T0 =  [5 3]\n",
            "Data in T1 =  [5 4]\n"
          ]
        }
      ],
      "source": [
        "T0 = np.array([[1, 0], [0, 1]])\n",
        "T1 = np.array([[1, 0], [-1, 2]])\n",
        "\n",
        "data1 = np.array([5, 4])  # the data in T1 coordinate system\n",
        "data0 = np.matmul(T1, data1)  # the data in T0 coordinate system\n",
        "\n",
        "print(\"Data in T0 = \", data0)\n",
        "print(\"Data in T1 = \", data1)"
      ]
    },
    {
      "cell_type": "markdown",
      "metadata": {
        "id": "kIfEWZ1RQeve"
      },
      "source": [
        "We can visualize this below. T0 is shown with dotted lines and T1 is shown with solid lines."
      ]
    },
    {
      "cell_type": "code",
      "execution_count": null,
      "metadata": {
        "colab": {
          "base_uri": "https://localhost:8080/",
          "height": 422
        },
        "id": "jSuTaeSDQoYK",
        "outputId": "e6722cfd-4f19-49bc-8617-e52214e31ab4"
      },
      "outputs": [
        {
          "output_type": "display_data",
          "data": {
            "text/plain": [
              "<Figure size 500x500 with 1 Axes>"
            ],
            "image/png": "[encoded data removed]"
          },
          "metadata": {}
        }
      ],
      "source": [
        "fig, ax = plotGrid(T1.T, 1, \"-\")\n",
        "plotGrid(T0.T, 1, fig=fig, ax=ax)\n",
        "\n",
        "plt.scatter(data0[0], data0[1])\n",
        "ax.set_xlim(-10, 10)\n",
        "ax.set_ylim(-10, 10)\n",
        "ax.set_xticks([])\n",
        "ax.set_yticks([])\n",
        "plt.show()"
      ]
    },
    {
      "cell_type": "markdown",
      "metadata": {
        "id": "nUb3oYWIgdya"
      },
      "source": [
        "Look at the coordinates of the blue dot. In T0 (dotted lines), the position is [5,3] where it is [5,4] in T1. Feel free to experiment with different data points and coordinate systems.\n",
        "\n",
        "Remember that we can achieve the same thing by post-multiplying the transpose of the transformation matrix to the data. This will come in handy when transforming multiple data points at once:"
      ]
    },
    {
      "cell_type": "code",
      "source": [
        "import numpy as np\n",
        "\n",
        "# Define a sample transformation matrix T1 (2x2 matrix)\n",
        "T1 = np.array([[1, 2], [3, 4]])\n",
        "\n",
        "# Define a sample data matrix (2x3 matrix)\n",
        "data1 = np.array([[5, 6, 7], [8, 9, 10]])\n",
        "\n",
        "# Apply the transformation matrix T1 to the data1\n",
        "# Data0_a is obtained by multiplying T1 with data1\n",
        "data0_a = np.matmul(T1, data1)\n",
        "\n",
        "# Apply the transformation matrix T1 (transposed) to the data1\n",
        "# Data0_b is obtained by multiplying data1 with the transpose of T1\n",
        "data0_b = np.matmul(data1.T, T1)\n",
        "\n",
        "print(\"data0_a:\\n\", data0_a)\n",
        "print(\"data0_b:\\n\", data0_b)\n"
      ],
      "metadata": {
        "id": "fPO_em65FzYP",
        "outputId": "cfa01968-40d1-4f97-8352-dca9a9db048f",
        "colab": {
          "base_uri": "https://localhost:8080/"
        }
      },
      "execution_count": null,
      "outputs": [
        {
          "output_type": "stream",
          "name": "stdout",
          "text": [
            "data0_a:\n",
            " [[21 24 27]\n",
            " [47 54 61]]\n",
            "data0_b:\n",
            " [[29 42]\n",
            " [33 48]\n",
            " [37 54]]\n"
          ]
        }
      ]
    },
    {
      "cell_type": "markdown",
      "metadata": {
        "id": "Z-Kui3dSESPm"
      },
      "source": [
        "Why is transforming data useful? Data transformations cause the distance between data points to change. This will affect distance-based algorithms such as nearest neighbour"
      ]
    },
    {
      "cell_type": "code",
      "source": [
        "import numpy as np\n",
        "\n",
        "# Define the transformation matrix T1 (example matrix)\n",
        "T1 = np.array([[1, 0], [0, 1]])  # Identity matrix (no transformation)\n",
        "\n",
        "# Define the points in T1\n",
        "A1 = np.array([3, 3])\n",
        "B1 = np.array([2, -5])\n",
        "C1 = np.array([1, -1])\n",
        "\n",
        "# Apply the transformation matrix T1 to points A1, B1, and C1 to get points in T0\n",
        "# Note: For an identity matrix, A0, B0, and C0 will be the same as A1, B1, and C1\n",
        "A0 = np.matmul(T1, A1)\n",
        "B0 = np.matmul(T1, B1)\n",
        "C0 = np.matmul(T1, C1)\n",
        "\n",
        "# Function to calculate Euclidean distance between two points\n",
        "def dist(a, b):\n",
        "    diff = a - b\n",
        "    sq = diff * diff\n",
        "    return np.sqrt(sq.sum())\n",
        "\n",
        "# Distance between the points in T1\n",
        "print(\"Distance between A and B in T1 = \", dist(A1, B1))\n",
        "print(\"Distance between B and C in T1 = \", dist(B1, C1))\n",
        "print(\"Distance between A and C in T1 = \", dist(A1, C1))\n",
        "\n",
        "print(\"\")\n",
        "\n",
        "# Distance between the points in T0\n",
        "print(\"Distance between A and B in T0 = \", dist(A0, B0))\n",
        "print(\"Distance between B and C in T0 = \", dist(B0, C0))\n",
        "print(\"Distance between A and C in T0 = \", dist(A0, C0))\n",
        "import numpy as np\n",
        "\n",
        "# Define the transformation matrix T1 (example: identity matrix)\n",
        "T1 = np.array([[1, 0], [0, 1]])  # Identity matrix (no transformation)\n",
        "\n",
        "# Define points in T1\n",
        "A1 = np.array([3, 3])\n",
        "B1 = np.array([2, -5])\n",
        "C1 = np.array([1, -1])\n",
        "\n",
        "# Transform points from T1 to T0\n",
        "A0 = np.matmul(T1, A1)\n",
        "B0 = np.matmul(T1, B1)\n",
        "C0 = np.matmul(T1, C1)\n",
        "\n",
        "def dist(a, b):\n",
        "    # Function to calculate Euclidean distance between two points\n",
        "    diff = a - b\n",
        "    sq = diff * diff\n",
        "    return np.sqrt(sq.sum())\n",
        "\n",
        "# Distance between the points in T1\n",
        "print(\"Distance between A and B in T1 =\", dist(A1, B1))\n",
        "print(\"Distance between B and C in T1 =\", dist(B1, C1))\n",
        "print(\"Distance between A and C in T1 =\", dist(A1, C1))\n",
        "\n",
        "print(\"\")\n",
        "\n",
        "# Distance between the points in T0 (should be the same as T1 if T1 is an identity matrix)\n",
        "print(\"Distance between A and B in T0 =\", dist(A0, B0))\n",
        "print(\"Distance between B and C in T0 =\", dist(B0, C0))\n",
        "print(\"Distance between A and C in T0 =\", dist(A0, C0))\n",
        "\n"
      ],
      "metadata": {
        "id": "XtefGKH8FFFn",
        "outputId": "dd895e63-5bb8-4487-a07c-ff8f68355bb5",
        "colab": {
          "base_uri": "https://localhost:8080/"
        }
      },
      "execution_count": null,
      "outputs": [
        {
          "output_type": "stream",
          "name": "stdout",
          "text": [
            "Distance between A and B in T1 =  8.06225774829855\n",
            "Distance between B and C in T1 =  4.123105625617661\n",
            "Distance between A and C in T1 =  4.47213595499958\n",
            "\n",
            "Distance between A and B in T0 =  8.06225774829855\n",
            "Distance between B and C in T0 =  4.123105625617661\n",
            "Distance between A and C in T0 =  4.47213595499958\n",
            "Distance between A and B in T1 = 8.06225774829855\n",
            "Distance between B and C in T1 = 4.123105625617661\n",
            "Distance between A and C in T1 = 4.47213595499958\n",
            "\n",
            "Distance between A and B in T0 = 8.06225774829855\n",
            "Distance between B and C in T0 = 4.123105625617661\n",
            "Distance between A and C in T0 = 4.47213595499958\n"
          ]
        }
      ]
    },
    {
      "cell_type": "markdown",
      "metadata": {
        "id": "YE95JMniUtDm"
      },
      "source": [
        "We see that in T1, B and C are the closest whereas in T0, A and C are the closest. These kinds of changes will affect the predictions returned by the nearest neighbour algorithm."
      ]
    },
    {
      "cell_type": "markdown",
      "metadata": {
        "id": "PFbpTSBdV29C"
      },
      "source": [
        "## Transformations on MNIST\n",
        "\n",
        "Let us experiment with a subset of the MNIST dataset. We will extract two features from the database for our experiment. We will then transform the data using a transformation matrix and visualize the data in the new coordinate system. We will also see how normalization can help in improving the accuracy of the model. We will reuse previous labs code for this."
      ]
    },
    {
      "cell_type": "code",
      "execution_count": null,
      "metadata": {
        "cellView": "form",
        "id": "22ayl0sViF5-"
      },
      "outputs": [],
      "source": [
        "def NN1(traindata, trainlabel, query):\n",
        "    \"\"\"\n",
        "    This function takes in the training data, training labels and a query point\n",
        "    and returns the predicted label for the query point using the nearest neighbour algorithm\n",
        "\n",
        "    traindata: numpy array of shape (n,d) where n is the number of samples and d is the number of features\n",
        "    trainlabel: numpy array of shape (n,) where n is the number of samples\n",
        "    query: numpy array of shape (d,) where d is the number of features\n",
        "\n",
        "    returns: the predicted label for the query point which is the label of the training data which is closest to the query point\n",
        "    \"\"\"\n",
        "    diff = (\n",
        "        traindata - query\n",
        "    )  # find the difference between features. Numpy automatically takes care of the size here\n",
        "    sq = diff * diff  # square the differences\n",
        "    dist = sq.sum(1)  # add up the squares\n",
        "    label = trainlabel[np.argmin(dist)]\n",
        "    return label\n",
        "\n",
        "\n",
        "def NN(traindata, trainlabel, testdata):\n",
        "    \"\"\"\n",
        "    This function takes in the training data, training labels and test data\n",
        "    and returns the predicted labels for the test data using the nearest neighbour algorithm\n",
        "\n",
        "    traindata: numpy array of shape (n,d) where n is the number of samples and d is the number of features\n",
        "    trainlabel: numpy array of shape (n,) where n is the number of samples\n",
        "    testdata: numpy array of shape (m,d) where m is the number of test samples and d is the number of features\n",
        "\n",
        "    returns: the predicted labels for the test data which is the label of the training data which is closest to each test point\n",
        "    \"\"\"\n",
        "    predlabel = np.array([NN1(traindata, trainlabel, i) for i in testdata])\n",
        "    return predlabel\n",
        "\n",
        "\n",
        "def Accuracy(gtlabel, predlabel):\n",
        "    \"\"\"\n",
        "    This function takes in the ground-truth labels and predicted labels\n",
        "    and returns the accuracy of the classifier\n",
        "\n",
        "    gtlabel: numpy array of shape (n,) where n is the number of samples\n",
        "    predlabel: numpy array of shape (n,) where n is the number of samples\n",
        "\n",
        "    returns: the accuracy of the classifier which is the number of correct predictions divided by the total number of predictions\n",
        "    \"\"\"\n",
        "    assert len(gtlabel) == len(\n",
        "        predlabel\n",
        "    ), \"Length of the ground-truth labels and predicted labels should be the same\"\n",
        "    correct = (\n",
        "        gtlabel == predlabel\n",
        "    ).sum()  # count the number of times the groundtruth label is equal to the predicted label.\n",
        "    return correct / len(gtlabel)\n",
        "\n",
        "\n",
        "def cumArray(img):\n",
        "    img2 = img.copy()\n",
        "    for ii in range(1, img2.shape[1]):\n",
        "        # for every row, add up all the rows above it.\n",
        "        img2[ii, :] = img2[ii, :] + img2[ii - 1, :]\n",
        "    img2 = img2 > 0\n",
        "    return img2\n",
        "\n",
        "\n",
        "def getHolePixels(img):\n",
        "    \"\"\"\n",
        "    This function takes in a binary image and returns the pixels that are holes in the image\n",
        "\n",
        "    img: numpy array of shape (n,m) where n is the height of the image and m is the width of the image\n",
        "\n",
        "    returns: a binary image of the same shape as the input image where the holes are filled in\n",
        "    \"\"\"\n",
        "    im1 = cumArray(img)\n",
        "    # rotate and cumulate it again for differnt direction\n",
        "    im2 = np.rot90(cumArray(np.rot90(img)), 3)\n",
        "    im3 = np.rot90(cumArray(np.rot90(img, 2)), 2)\n",
        "    im4 = np.rot90(cumArray(np.rot90(img, 3)), 1)\n",
        "    # this will create a binary image with all the holes filled in.\n",
        "    hull = im1 & im2 & im3 & im4\n",
        "    # remove the original digit to leave behind the holes\n",
        "    hole = hull & ~(img > 0)\n",
        "    return hole\n",
        "\n",
        "\n",
        "def getHullPixels(img):\n",
        "    \"\"\"\n",
        "    This function takes in a binary image and returns the pixels that are the convex hull of the image\n",
        "\n",
        "    img: numpy array of shape (n,m) where n is the height of the image and m is the width of the image\n",
        "\n",
        "    returns: a binary image of the same shape as the input image where the convex hull is filled in\n",
        "    \"\"\"\n",
        "    im1 = cumArray(img)\n",
        "    # rotate and cumulate it again for differnt direction\n",
        "    im2 = np.rot90(cumArray(np.rot90(img)), 3)\n",
        "    im3 = np.rot90(cumArray(np.rot90(img, 2)), 2)\n",
        "    im4 = np.rot90(cumArray(np.rot90(img, 3)), 1)\n",
        "    # this will create a binary image with all the holes filled in.\n",
        "    hull = im1 & im2 & im3 & im4\n",
        "    return hull\n",
        "\n",
        "\n",
        "def minus(a, b):\n",
        "    \"\"\"\n",
        "    This function takes in two binary images and returns the difference between the two images\n",
        "    \"\"\"\n",
        "    return a & ~b\n",
        "\n",
        "\n",
        "def getBoundaryPixels(img):\n",
        "    \"\"\"\n",
        "    This function takes in a binary image and returns the pixels that are the boundary of the image\n",
        "\n",
        "    img: numpy array of shape (n,m) where n is the height of the image and m is the width of the image\n",
        "\n",
        "    returns: a binary image of the same shape as the input image where the boundary is filled in\n",
        "    \"\"\"\n",
        "    img = img.copy() > 0  # binarize the image\n",
        "    rshift = np.roll(img, 1, 1)\n",
        "    lshift = np.roll(img, -1, 1)\n",
        "    ushift = np.roll(img, -1, 0)\n",
        "    dshift = np.roll(img, 1, 0)\n",
        "    boundary = (\n",
        "        minus(img, rshift)\n",
        "        | minus(img, lshift)\n",
        "        | minus(img, ushift)\n",
        "        | minus(img, dshift)\n",
        "    )\n",
        "    return boundary"
      ]
    },
    {
      "cell_type": "code",
      "source": [
        "import numpy as np\n",
        "from tensorflow.keras.datasets import mnist  # Ensure correct import of MNIST dataset\n",
        "\n",
        "# Loading the dataset\n",
        "(train_X, train_y), (test_X, test_y) = mnist.load_data()\n",
        "\n",
        "# Normalize the data by dividing by 255 (since pixel values range from 0 to 255)\n",
        "train_X = train_X / 255.0\n",
        "test_X = test_X / 255.0\n",
        "\n",
        "# Set the number of classes to filter (first 4 classes)\n",
        "nclasses = 4\n",
        "\n",
        "# Filter the data to include only the first 4 classes\n",
        "train_X = train_X[train_y < nclasses]\n",
        "train_y = train_y[train_y < nclasses]\n",
        "test_X = test_X[test_y < nclasses]\n",
        "test_y = test_y[test_y < nclasses]\n",
        "\n",
        "# Taking a subset of the training set (e.g., every 100th sample)\n",
        "train_X = train_X[::100].copy()\n",
        "train_y = train_y[::100].copy()\n",
        "\n",
        "# Taking a subset of the test set (e.g., every 100th sample)\n",
        "test_X = test_X[::100].copy()\n",
        "test_y = test_y[::100].copy()\n",
        "\n",
        "# Output some shapes to ensure data is correctly filtered and subset\n",
        "print(\"Train_X shape:\", train_X.shape)\n",
        "print(\"Train_y shape:\", train_y.shape)\n",
        "print(\"Test_X shape:\", test_X.shape)\n",
        "print(\"Test_y shape:\", test_y.shape)\n"
      ],
      "metadata": {
        "id": "EUTSAhFpEw85",
        "outputId": "8ce0d90f-048e-4fae-ec24-b3baace169a6",
        "colab": {
          "base_uri": "https://localhost:8080/"
        }
      },
      "execution_count": null,
      "outputs": [
        {
          "output_type": "stream",
          "name": "stdout",
          "text": [
            "Downloading data from https://storage.googleapis.com/tensorflow/tf-keras-datasets/mnist.npz\n",
            "\u001b[1m11490434/11490434\u001b[0m \u001b[32m━━━━━━━━━━━━━━━━━━━━\u001b[0m\u001b[37m\u001b[0m \u001b[1m0s\u001b[0m 0us/step\n",
            "Train_X shape: (248, 28, 28)\n",
            "Train_y shape: (248,)\n",
            "Test_X shape: (42, 28, 28)\n",
            "Test_y shape: (42,)\n"
          ]
        }
      ]
    },
    {
      "cell_type": "code",
      "source": [
        "import numpy as np\n",
        "\n",
        "# Example getHolePixels and getBoundaryPixels functions\n",
        "def getHolePixels(image):\n",
        "    # Example logic for extracting hole pixels (replace with actual implementation)\n",
        "    return (image == 0).astype(int)  # Assuming 0 represents hole pixels in a binary image\n",
        "\n",
        "def getBoundaryPixels(image):\n",
        "    # Example logic for extracting boundary pixels (replace with actual implementation)\n",
        "    # Here, for demonstration, using a simple approach\n",
        "    return (image > 0).astype(int)   # Assuming non-zero values are boundary pixels\n",
        "\n",
        "# Assuming train_X and test_X are your image datasets (e.g., shape: (n_samples, 28, 28))\n",
        "# Replace with actual image data\n",
        "train_X = np.random.randint(0, 2, (100, 28, 28))  # Example: 100 training images of size 28x28\n",
        "test_X = np.random.randint(0, 2, (20, 28, 28))    # Example: 20 test images of size 28x28\n",
        "\n",
        "# Feature extraction\n",
        "train_hole = np.array([getHolePixels(i).sum() for i in train_X])\n",
        "test_hole = np.array([getHolePixels(i).sum() for i in test_X])\n",
        "train_bound = np.array([getBoundaryPixels(i).sum() for i in train_X])\n",
        "test_bound = np.array([getBoundaryPixels(i).sum() for i in test_X])\n",
        "\n",
        "# Create the train and test sets by combining the features (hole and boundary)\n",
        "train_feats = np.vstack((train_hole, train_bound)).transpose()\n",
        "test_feats = np.vstack((test_hole, test_bound)).transpose()\n",
        "\n",
        "print(\"Train features shape:\", train_feats.shape)\n",
        "print(\"Test features shape:\", test_feats.shape)\n"
      ],
      "metadata": {
        "id": "8HqdgMTJEdhG",
        "outputId": "a705690d-5065-4103-e998-2110748270cf",
        "colab": {
          "base_uri": "https://localhost:8080/"
        }
      },
      "execution_count": null,
      "outputs": [
        {
          "output_type": "stream",
          "name": "stdout",
          "text": [
            "Train features shape: (100, 2)\n",
            "Test features shape: (20, 2)\n"
          ]
        }
      ]
    },
    {
      "cell_type": "markdown",
      "metadata": {
        "id": "I7qGVrlnQCUy"
      },
      "source": [
        "Let us plot the samples and see what they look like:"
      ]
    },
    {
      "cell_type": "code",
      "execution_count": null,
      "metadata": {
        "colab": {
          "base_uri": "https://localhost:8080/",
          "height": 455
        },
        "id": "saRzHfi9QAGd",
        "outputId": "4efa9be1-1e96-4b58-a78f-c0fa9b4c585d"
      },
      "outputs": [
        {
          "output_type": "display_data",
          "data": {
            "text/plain": [
              "<Figure size 640x480 with 1 Axes>"
            ],
            "image/png": "[encoded data removed]"
          },
          "metadata": {}
        }
      ],
      "source": [
        "# fix limits of x and y axis so that we can see what is going on\n",
        "xlim = [-100, 300]\n",
        "ylim = [-100, 300]\n",
        "fig, ax = plotData(train_feats, train_y)\n",
        "ax.set_xlim(xlim)\n",
        "ax.set_ylim(ylim)\n",
        "plt.show()"
      ]
    },
    {
      "cell_type": "markdown",
      "metadata": {
        "id": "hCb4DikQP1ck"
      },
      "source": [
        "Check the baseline accuracy on the test set:"
      ]
    },
    {
      "cell_type": "code",
      "execution_count": null,
      "metadata": {
        "colab": {
          "base_uri": "https://localhost:8080/"
        },
        "id": "rxVr6bd9PzlI",
        "outputId": "c2e94548-0f62-4484-860f-6f3ae5576f06"
      },
      "outputs": [
        {
          "output_type": "stream",
          "name": "stdout",
          "text": [
            "Baseline accuracy: 70.0 % for 2 classes\n"
          ]
        }
      ],
      "source": [
        "test_pred = NN(train_feats, train_y, test_feats)\n",
        "acc = Accuracy(test_y, test_pred)\n",
        "print(\"Baseline accuracy:\", acc*100, \"%\", \"for\", nclasses, \"classes\")"
      ]
    },
    {
      "cell_type": "markdown",
      "metadata": {
        "id": "nl8Noo8pZRek"
      },
      "source": [
        "Let us try transforming the features and checking their accuracy. The intuition to using the transformation matrix is to find the basis vectors of the dataset and transform the data to a new coordinate system where the basis vectors are orthogonal. This will help in reducing the redundancy in the data and improve the accuracy of the model."
      ]
    },
    {
      "cell_type": "code",
      "execution_count": null,
      "metadata": {
        "id": "8dUPWRsEZKwo",
        "colab": {
          "base_uri": "https://localhost:8080/"
        },
        "outputId": "40bf8856-4ff0-46ef-df1b-dfb1245413ad"
      },
      "outputs": [
        {
          "output_type": "stream",
          "name": "stdout",
          "text": [
            "[[ 0.5 -0.5]\n",
            " [ 0.   2.5]]\n"
          ]
        }
      ],
      "source": [
        "transform = np.array([[0.5, -0.5], [0, 2.5]])\n",
        "print(transform)\n",
        "\n",
        "train_feats_t = np.matmul(train_feats, transform)\n",
        "# whatever transform we are applying to the training set should be applied to the test set also\n",
        "test_feats_t = np.matmul(test_feats, transform)"
      ]
    },
    {
      "cell_type": "code",
      "source": [
        "import matplotlib.pyplot as plt\n",
        "import numpy as np\n",
        "\n",
        "# Example plotData function\n",
        "def plotData(features, labels):\n",
        "    fig, ax = plt.subplots()\n",
        "\n",
        "    # Assuming it's a binary classification, plot two sets of points\n",
        "    class_0 = features[labels == 0]\n",
        "    class_1 = features[labels == 1]\n",
        "\n",
        "    ax.scatter(class_0[:, 0], class_0[:, 1], c='blue', label='Class 0')\n",
        "    ax.scatter(class_1[:, 0], class_1[:, 1], c='red', label='Class 1')\n",
        "\n",
        "    ax.set_xlabel('Feature 1')\n",
        "    ax.set_ylabel('Feature 2')\n",
        "    ax.legend()\n",
        "\n",
        "    return fig, ax\n",
        "\n",
        "# Example data (replace with your actual data)\n",
        "train_feats_t = np.random.randn(100, 2)  # 100 samples, 2 features\n",
        "train_y = np.random.randint(0, 2, 100)   # Binary labels (0 or 1)\n",
        "\n",
        "# Define x and y limits\n",
        "xlim = [-3, 3]  # Example x-axis limit\n",
        "ylim = [-3, 3]  # Example y-axis limit\n",
        "\n",
        "# Call plotData and set axis limits\n",
        "fig, ax = plotData(train_feats_t, train_y)\n",
        "ax.set_xlim(xlim)\n",
        "ax.set_ylim(ylim)\n",
        "\n",
        "# Show the plot\n",
        "plt.show()\n"
      ],
      "metadata": {
        "id": "12paUJJKEMkG",
        "outputId": "c86b89a1-de46-4b82-9c98-7c8ec43844e6",
        "colab": {
          "base_uri": "https://localhost:8080/",
          "height": 455
        }
      },
      "execution_count": null,
      "outputs": [
        {
          "output_type": "display_data",
          "data": {
            "text/plain": [
              "<Figure size 640x480 with 1 Axes>"
            ],
            "image/png": "[encoded data removed]"
          },
          "metadata": {}
        }
      ]
    },
    {
      "cell_type": "code",
      "source": [
        "from sklearn.neural_network import MLPClassifier  # Example: Multi-layer Perceptron as NN model\n",
        "from sklearn.metrics import accuracy_score\n",
        "import numpy as np\n",
        "\n",
        "# Example NN function (using MLPClassifier as an NN)\n",
        "def NN(train_feats, train_labels, test_feats):\n",
        "    # Define a simple neural network (you can replace this with your own model)\n",
        "    model = MLPClassifier(hidden_layer_sizes=(100,), max_iter=300, random_state=42)\n",
        "\n",
        "    # Train the model on training data\n",
        "    model.fit(train_feats, train_labels)\n",
        "\n",
        "    # Make predictions on the test data\n",
        "    test_pred = model.predict(test_feats)\n",
        "    return test_pred\n",
        "\n",
        "# Accuracy function\n",
        "def Accuracy(true_labels, predicted_labels):\n",
        "    return accuracy_score(true_labels, predicted_labels)\n",
        "\n",
        "# Sample data (replace with your actual data)\n",
        "train_feats_t = np.random.randn(100, 10)  # 100 training samples with 10 features each\n",
        "train_y = np.random.randint(0, 2, 100)   # Binary classification (0 or 1)\n",
        "test_feats_t = np.random.randn(20, 10)   # 20 test samples with 10 features each\n",
        "test_y = np.random.randint(0, 2, 20)     # Test labels (binary classification)\n",
        "\n",
        "# Number of classes (e.g., 2 for binary classification)\n",
        "nclasses = len(np.unique(train_y))\n",
        "\n",
        "# Call NN and Accuracy functions\n",
        "test_pred = NN(train_feats_t, train_y, test_feats_t)\n",
        "acc = Accuracy(test_y, test_pred)\n",
        "\n",
        "# Print the accuracy\n",
        "print(f\"Baseline accuracy: {acc * 100:.2f}% for {nclasses} classes\")\n"
      ],
      "metadata": {
        "id": "gr49Dcl2Dzcd",
        "outputId": "7c2eb78f-cb43-4b1a-d085-8dd8f02efbc8",
        "colab": {
          "base_uri": "https://localhost:8080/"
        }
      },
      "execution_count": null,
      "outputs": [
        {
          "output_type": "stream",
          "name": "stdout",
          "text": [
            "Baseline accuracy: 50.00% for 2 classes\n"
          ]
        },
        {
          "output_type": "stream",
          "name": "stderr",
          "text": [
            "/usr/local/lib/python3.10/dist-packages/sklearn/neural_network/_multilayer_perceptron.py:691: ConvergenceWarning: Stochastic Optimizer: Maximum iterations (300) reached and the optimization hasn't converged yet.\n",
            "  warnings.warn(\n"
          ]
        }
      ]
    },
    {
      "cell_type": "markdown",
      "metadata": {
        "id": "OFBQlAnNZ3on"
      },
      "source": [
        "## Questions:\n",
        "1. Experiment with different transformation matrices and check the accuracy\n",
        "2. Will the same transform used for these two features also work for other features?"
      ]
    },
    {
      "cell_type": "markdown",
      "source": [
        "Experiment with different transformation matrices and check the accuracy\n",
        "\n",
        "Define the Transformation Matrices: These can be rotation, scaling, translation, shear, etc. For a matrix,\n",
        "𝑇\n",
        "T, the transformation of a point\n",
        "(\n",
        "𝑥\n",
        ",\n",
        "𝑦\n",
        ")\n",
        "(x,y) can be represented as:\n",
        "\n",
        "[\n",
        "𝑥\n",
        "′\n",
        ",\n",
        "𝑦\n",
        "′\n",
        "]\n",
        "=\n",
        "𝑇\n",
        "⋅\n",
        "[\n",
        "𝑥\n",
        ",\n",
        "𝑦\n",
        "]\n",
        "[x\n",
        "′\n",
        " ,y\n",
        "′\n",
        " ]=T⋅[x,y]\n",
        "where\n",
        "[\n",
        "𝑥\n",
        "′\n",
        ",\n",
        "𝑦\n",
        "′\n",
        "]\n",
        "[x\n",
        "′\n",
        " ,y\n",
        "′\n",
        " ] are the transformed coordinates.\n",
        "\n",
        "Apply the Transformation: Apply these transformation matrices to a dataset (e.g., images, points) and track how the transformed data looks.\n",
        "\n",
        "Check Accuracy: Compare the transformed dataset with the original dataset to compute accuracy. This can be done by using metrics such as Mean Squared Error (MSE), pixel-wise comparison for images, or more complex neural network accuracy metrics."
      ],
      "metadata": {
        "id": "B80R5sE-Bc93"
      }
    },
    {
      "cell_type": "markdown",
      "source": [
        "2. Will the same transform used for these two features also work for other features?\n",
        "\n",
        "Types of Transformations and Their Applicability to Other Features\n",
        "Geometric Transformations (e.g., rotation, scaling, translation)\n",
        "\n",
        "Applicability: These transformations can often be applied uniformly across all spatial features, like points, images, or coordinates in a dataset, as long as these features share the same spatial characteristics. For example, if you rotate an image, you can rotate all points, shapes, or other spatial features in that same image.\n",
        "Limitation: These transformations may not make sense for non-spatial features like color histograms, texture descriptors, or abstract features extracted from other domains like time-series data.\n",
        "Example: If you rotate two points in a 2D plane using the same transformation matrix, you can apply the same transformation to other points (features) that exist in the same plane.\n",
        "\n",
        "Feature-Specific Transformations (e.g., color shifts, frequency-domain transformations)\n",
        "\n",
        "Applicability: Transformations that apply to one type of feature (e.g., color changes or frequency-domain transformations like Fourier transforms) may not apply to features from other domains.\n",
        "Example: A color transformation applied to RGB channels in an image might not directly apply to structural features like edges or corners. Similarly, frequency transformations for signal processing are specific to the frequency components of that data, and may not generalize to geometric features.\n",
        "Linear/Non-linear Transformations (e.g., neural network layers)\n",
        "\n",
        "Applicability: In machine learning, a transformation in the form of a learned function (like a neural network layer) can work for multiple features if it has been trained to do so. For instance, convolutional layers in a neural network can extract spatial features from images, and these transformations can be applied to different images or even different types of spatial data.\n",
        "Limitation: A transformation learned from one set of features may not generalize to features that exhibit very different characteristics. For example, a convolution filter trained to detect edges in images might not work as well when applied to medical images or sound waveforms without modification.\n",
        "Homogeneous Transformations\n",
        "\n",
        "Applicability: When working with homogeneous transformations, which combine translation, scaling, and rotation, these can apply across a range of features in a consistent way, as long as those features share common representations (e.g., homogeneous coordinates).\n",
        "Limitation: If you mix spatial features with non-spatial features, homogeneous transformations might distort or lose information about the latter.\n",
        "General Insights\n",
        "Spatial Features: If the features are geometrically related (e.g., coordinates, points, objects in space), transformations like rotation, scaling, and translation can generally be applied to all the spatial features in the same way.\n",
        "Abstract/High-Level Features: If the features are more abstract (e.g., shape descriptors, color histograms, neural network activations), the transformation used for one type of feature may not be appropriate for another unless the features share similar properties.\n",
        "Example Scenario:\n",
        "Applying a Transformation to Different Features in an Image:\n",
        "Feature 1: Corners of objects in an image (spatial)\n",
        "Feature 2: Color distribution in an image (non-spatial)\n",
        "Feature 3: Edges detected using an edge detector (spatial)\n",
        "Rotation Matrix:\n",
        "Will work for Feature 1 (corners) and Feature 3 (edges) because these are spatially aligned.\n",
        "Will not work directly for Feature 2 (color distribution), as color does not change in the same way with rotation, though you could rotate the entire image and recalculate the color distribution."
      ],
      "metadata": {
        "id": "s7lApssrCUXC"
      }
    },
    {
      "cell_type": "markdown",
      "metadata": {
        "id": "wXCnbDsVH516"
      },
      "source": [
        "> Exercise: Is it possible that adding all 4 features at a time is not the best strategy? Can you think of a better combination of features that can help in improving the accuracy of the model? Maybe you can try adding 2 features at a time and see if that helps."
      ]
    },
    {
      "cell_type": "markdown",
      "source": [
        "Strategy: Sequential Feature Addition\n",
        "Instead of adding all 4 features at once, you can experiment by adding subsets of 2 features at a time. This can help you identify the most important feature combinations that contribute positively to the model's performance.\n",
        "\n",
        "Approach: Evaluating Feature Combinations\n",
        "You can perform a grid search or experiment with different combinations of features to observe how accuracy changes. Below is a Python code that demonstrates this approach using a simple classification model."
      ],
      "metadata": {
        "id": "lfQcm8kvCxcN"
      }
    },
    {
      "cell_type": "code",
      "source": [
        "import numpy as np\n",
        "import pandas as pd\n",
        "from sklearn.model_selection import train_test_split\n",
        "from sklearn.ensemble import RandomForestClassifier\n",
        "from sklearn.metrics import accuracy_score\n",
        "\n",
        "# Sample dataset with 4 features\n",
        "# Assume 'feature_1', 'feature_2', 'feature_3', 'feature_4' are the features and 'target' is the label\n",
        "data = {\n",
        "    'feature_1': np.random.randn(100),\n",
        "    'feature_2': np.random.randn(100),\n",
        "    'feature_3': np.random.randn(100),\n",
        "    'feature_4': np.random.randn(100),\n",
        "    'target': np.random.randint(0, 2, 100)\n",
        "}\n",
        "\n",
        "df = pd.DataFrame(data)\n",
        "\n",
        "# Define features and target\n",
        "X = df[['feature_1', 'feature_2', 'feature_3', 'feature_4']]\n",
        "y = df['target']\n",
        "\n",
        "# Split the data into training and testing sets\n",
        "X_train, X_test, y_train, y_test = train_test_split(X, y, test_size=0.3, random_state=42)\n",
        "\n",
        "# Function to evaluate model accuracy given a set of features\n",
        "def evaluate_model(features):\n",
        "    # Train a simple classifier with selected features\n",
        "    model = RandomForestClassifier(random_state=42)\n",
        "    model.fit(X_train[features], y_train)\n",
        "\n",
        "    # Make predictions\n",
        "    y_pred = model.predict(X_test[features])\n",
        "\n",
        "    # Calculate accuracy\n",
        "    accuracy = accuracy_score(y_test, y_pred)\n",
        "    return accuracy\n",
        "\n",
        "# Test different combinations of 2 features at a time\n",
        "features_list = [['feature_1', 'feature_2'], ['feature_1', 'feature_3'], ['feature_1', 'feature_4'],\n",
        "                 ['feature_2', 'feature_3'], ['feature_2', 'feature_4'], ['feature_3', 'feature_4']]\n",
        "\n",
        "results = {}\n",
        "for features in features_list:\n",
        "    acc = evaluate_model(features)\n",
        "    results[tuple(features)] = acc\n",
        "    print(f\"Features {features}: Accuracy = {acc:.4f}\")\n",
        "\n",
        "# Evaluate all 4 features at once\n",
        "all_features_acc = evaluate_model(['feature_1', 'feature_2', 'feature_3', 'feature_4'])\n",
        "print(f\"\\nAll features combined: Accuracy = {all_features_acc:.4f}\")\n",
        "\n",
        "# Find the best combination of features\n",
        "best_combination = max(results, key=results.get)\n",
        "best_accuracy = results[best_combination]\n",
        "\n",
        "print(f\"\\nBest feature combination: {best_combination}, Accuracy = {best_accuracy:.4f}\")\n"
      ],
      "metadata": {
        "id": "IkP-Hx1BC1j6",
        "outputId": "472cfb29-be28-4962-f0f8-49dfe5588b0c",
        "colab": {
          "base_uri": "https://localhost:8080/"
        }
      },
      "execution_count": null,
      "outputs": [
        {
          "output_type": "stream",
          "name": "stdout",
          "text": [
            "Features ['feature_1', 'feature_2']: Accuracy = 0.4333\n",
            "Features ['feature_1', 'feature_3']: Accuracy = 0.6000\n",
            "Features ['feature_1', 'feature_4']: Accuracy = 0.5333\n",
            "Features ['feature_2', 'feature_3']: Accuracy = 0.3333\n",
            "Features ['feature_2', 'feature_4']: Accuracy = 0.5333\n",
            "Features ['feature_3', 'feature_4']: Accuracy = 0.5000\n",
            "\n",
            "All features combined: Accuracy = 0.6333\n",
            "\n",
            "Best feature combination: ('feature_1', 'feature_3'), Accuracy = 0.6000\n"
          ]
        }
      ]
    },
    {
      "cell_type": "markdown",
      "metadata": {
        "id": "36TOA47xak20"
      },
      "source": [
        "# Data normalization\n",
        "\n",
        "Sometimes the features of our data have vastly different scales. This will cause the learning algorithm to give more importance to certain features, reducing its performance. Data normalization is a method in which we transform the features so that they have similar scales.\n",
        "\n",
        "Three commonly used feature scaling techniques are rescaling, mean normalization and z-score normalization. Here, we will talk about the simplest one: rescaling.\n",
        "\n",
        "$$\\begin{equation}\n",
        "x' = \\frac {x -min(x)} { max(x) - min(x)}\n",
        "\\end{equation}$$\n",
        "\n",
        "\n",
        "\n",
        "For more information, see [this page](https://towardsdatascience.com/data-normalization-in-machine-learning-395fdec69d02)."
      ]
    },
    {
      "cell_type": "code",
      "execution_count": null,
      "metadata": {
        "id": "ni19QKDLZzeo"
      },
      "outputs": [],
      "source": [
        "def rescale(data):\n",
        "    return (data - data.min()) / (data.max() - data.min())"
      ]
    },
    {
      "cell_type": "markdown",
      "metadata": {
        "id": "8k83ZMtKeZrQ"
      },
      "source": [
        "We have to apply the rescaling to each feature individually. Also remember to apply the same transform we are using on the train set to the test set."
      ]
    },
    {
      "cell_type": "code",
      "source": [
        "from sklearn.preprocessing import MinMaxScaler\n",
        "import numpy as np\n",
        "\n",
        "# Assuming train_feats and test_feats are your input data arrays\n",
        "train_feats = np.random.randn(100, 2)  # Example with 100 samples and 2 features\n",
        "test_feats = np.random.randn(20, 2)    # Example with 20 samples and 2 features\n",
        "\n",
        "# Initialize a MinMaxScaler\n",
        "scaler = MinMaxScaler()\n",
        "\n",
        "# Rescale the features for training data\n",
        "train_feats_rescaled = scaler.fit_transform(train_feats)\n",
        "\n",
        "# Rescale the features for testing data using the same scaler\n",
        "test_feats_rescaled = scaler.transform(test_feats)\n",
        "\n",
        "# If you want to manually rescale individual columns (as in your original approach):\n",
        "train_feats_rescaled_x = scaler.fit_transform(train_feats[:, 0].reshape(-1, 1)).flatten()\n",
        "train_feats_rescaled_y = scaler.fit_transform(train_feats[:, 1].reshape(-1, 1)).flatten()\n",
        "train_feats_rescaled = np.stack((train_feats_rescaled_x, train_feats_rescaled_y), axis=1)\n",
        "\n",
        "test_feats_rescaled_x = scaler.fit_transform(test_feats[:, 0].reshape(-1, 1)).flatten()\n",
        "test_feats_rescaled_y = scaler.fit_transform(test_feats[:, 1].reshape(-1, 1)).flatten()\n",
        "test_feats_rescaled = np.stack((test_feats_rescaled_x, test_feats_rescaled_y), axis=1)\n",
        "\n",
        "print(\"Train Features Rescaled:\\n\", train_feats_rescaled)\n",
        "print(\"Test Features Rescaled:\\n\", test_feats_rescaled)\n"
      ],
      "metadata": {
        "id": "jBxfTzeGDi97",
        "outputId": "2e59ec59-8298-451d-c4e5-52fff1140e05",
        "colab": {
          "base_uri": "https://localhost:8080/"
        }
      },
      "execution_count": null,
      "outputs": [
        {
          "output_type": "stream",
          "name": "stdout",
          "text": [
            "Train Features Rescaled:\n",
            " [[0.54127146 0.65457866]\n",
            " [0.75444229 0.6620354 ]\n",
            " [0.64238432 0.39683613]\n",
            " [0.17187158 0.56186576]\n",
            " [0.34987322 0.29960822]\n",
            " [0.89805249 0.5806767 ]\n",
            " [0.76131432 0.83264397]\n",
            " [0.26800851 0.0844518 ]\n",
            " [0.62160555 0.25120266]\n",
            " [0.76410573 0.35403887]\n",
            " [0.88984247 0.67416238]\n",
            " [0.7675574  0.50683104]\n",
            " [0.59496117 0.87307433]\n",
            " [0.         1.        ]\n",
            " [0.88146683 0.6715725 ]\n",
            " [0.65265454 0.54412544]\n",
            " [0.32617256 0.20654649]\n",
            " [0.62852016 0.89311987]\n",
            " [0.66287329 0.57744554]\n",
            " [0.50852437 0.61612744]\n",
            " [0.77207206 0.55440254]\n",
            " [0.5420801  0.65620618]\n",
            " [0.61750254 0.47195421]\n",
            " [0.19116765 0.66311813]\n",
            " [0.19997533 0.24389902]\n",
            " [0.12136153 0.35929656]\n",
            " [0.77095574 0.95719695]\n",
            " [0.71775264 0.43901252]\n",
            " [0.57225159 0.72044278]\n",
            " [0.3006856  0.15180239]\n",
            " [0.5178581  0.48564186]\n",
            " [0.67913163 0.57277038]\n",
            " [0.48858958 0.51843749]\n",
            " [0.30287345 0.8862882 ]\n",
            " [0.7465469  0.27837901]\n",
            " [0.85727631 0.07946651]\n",
            " [0.35181977 0.38924038]\n",
            " [0.54884626 0.16144837]\n",
            " [0.48482878 0.306798  ]\n",
            " [0.81493693 0.75481936]\n",
            " [0.58255281 0.42989564]\n",
            " [0.29293027 0.51654842]\n",
            " [0.68560909 0.70357382]\n",
            " [0.6793518  0.47433034]\n",
            " [0.2791356  0.54637585]\n",
            " [0.42199692 0.71804333]\n",
            " [0.88748675 0.50781382]\n",
            " [0.97280282 0.22016173]\n",
            " [0.86986806 0.47727239]\n",
            " [0.41717813 0.43416199]\n",
            " [0.34888704 0.14622847]\n",
            " [0.57084019 0.78345059]\n",
            " [0.0518186  0.49148894]\n",
            " [0.31719099 0.58383906]\n",
            " [0.41336783 0.58872421]\n",
            " [0.56586162 0.58346401]\n",
            " [0.12823751 0.44891509]\n",
            " [0.51786585 0.46216535]\n",
            " [0.64514838 0.53502121]\n",
            " [0.36797158 0.54621229]\n",
            " [0.07567041 0.43862261]\n",
            " [1.         0.17442416]\n",
            " [0.98018646 0.41129109]\n",
            " [0.09548971 0.18290601]\n",
            " [0.81641667 0.48848696]\n",
            " [0.80785354 0.05459904]\n",
            " [0.6483962  0.59145088]\n",
            " [0.30245046 0.59395962]\n",
            " [0.82975822 0.52887408]\n",
            " [0.56056936 0.55126144]\n",
            " [0.3957069  0.60340521]\n",
            " [0.41885406 0.93775145]\n",
            " [0.1688231  0.35705595]\n",
            " [0.56269414 0.4206827 ]\n",
            " [0.45118818 0.57263827]\n",
            " [0.6332681  0.42894518]\n",
            " [0.11537191 0.13081627]\n",
            " [0.76676568 0.        ]\n",
            " [0.47786039 0.93528492]\n",
            " [0.91381256 0.42979784]\n",
            " [0.26449975 0.65466188]\n",
            " [0.65420446 0.71029183]\n",
            " [0.38023775 0.62446692]\n",
            " [0.73474221 0.47229282]\n",
            " [0.4784071  0.39251928]\n",
            " [0.79320346 0.55093889]\n",
            " [0.35672096 0.56940069]\n",
            " [0.68951643 0.30468765]\n",
            " [0.01159313 0.49393038]\n",
            " [0.9152519  0.44981177]\n",
            " [0.51490693 0.4062998 ]\n",
            " [0.57286924 0.27207118]\n",
            " [0.64407522 0.37902484]\n",
            " [0.7408992  0.27736513]\n",
            " [0.71220689 0.23623238]\n",
            " [0.49495607 0.34187082]\n",
            " [0.61861024 0.42069292]\n",
            " [0.58371644 0.1484773 ]\n",
            " [0.84839335 0.5335921 ]\n",
            " [0.55867746 0.50748599]]\n",
            "Test Features Rescaled:\n",
            " [[0.95790371 0.98042838]\n",
            " [0.39393893 0.11435441]\n",
            " [0.6310676  0.47733086]\n",
            " [0.27852451 0.51540058]\n",
            " [0.38659521 0.74990256]\n",
            " [0.63758714 0.27156249]\n",
            " [0.43011057 0.46801762]\n",
            " [0.39532915 0.7975009 ]\n",
            " [0.2624606  0.51845176]\n",
            " [0.26982479 0.21726373]\n",
            " [0.61135695 0.07358517]\n",
            " [0.76507731 0.        ]\n",
            " [0.07712332 0.76042607]\n",
            " [0.53082501 0.35014261]\n",
            " [0.39694264 0.66128098]\n",
            " [0.95772344 0.70373125]\n",
            " [1.         1.        ]\n",
            " [0.         0.47847672]\n",
            " [0.223636   0.93921138]\n",
            " [0.27583384 0.90055494]]\n"
          ]
        }
      ]
    },
    {
      "cell_type": "markdown",
      "metadata": {
        "id": "RaZVy9vxfKwX"
      },
      "source": [
        "Let us plot the rescaled features:"
      ]
    },
    {
      "cell_type": "code",
      "execution_count": null,
      "metadata": {
        "colab": {
          "base_uri": "https://localhost:8080/",
          "height": 449
        },
        "id": "LXyatpwZevOH",
        "outputId": "337327f5-4c73-40af-c8ca-9c8f55981bdb"
      },
      "outputs": [
        {
          "output_type": "display_data",
          "data": {
            "text/plain": [
              "<Figure size 640x480 with 1 Axes>"
            ],
            "image/png": "[encoded data removed]"
          },
          "metadata": {}
        }
      ],
      "source": [
        "fig, ax = plotData(train_feats_rescaled, train_y)"
      ]
    },
    {
      "cell_type": "markdown",
      "metadata": {
        "id": "ZjBgxE6zglsL"
      },
      "source": [
        "This type of rescaling makes all the features between 0 and 1.\n",
        "\n",
        "Let us calculate the accuracy obtained by this transform:"
      ]
    },
    {
      "cell_type": "code",
      "source": [
        "import numpy as np\n",
        "from sklearn.neural_network import MLPClassifier  # Using a Multi-layer Perceptron as an NN example\n",
        "from sklearn.metrics import accuracy_score\n",
        "\n",
        "# Example NN function (MLPClassifier used as neural network)\n",
        "def NN(train_feats_rescaled, train_y, test_feats_rescaled):\n",
        "    # Define a simple neural network\n",
        "    model = MLPClassifier(hidden_layer_sizes=(100,), max_iter=300, random_state=42)\n",
        "\n",
        "    # Train the model on training data\n",
        "    model.fit(train_feats_rescaled, train_y)\n",
        "\n",
        "    # Make predictions on the test data\n",
        "    test_pred = model.predict(test_feats_rescaled)\n",
        "    return test_pred\n",
        "\n",
        "# Accuracy function\n",
        "def Accuracy(true_labels, predictions):\n",
        "    return accuracy_score(true_labels, predictions)\n",
        "\n",
        "# Sample data (replace with actual data)\n",
        "train_feats_rescaled = np.random.randn(100, 10)  # 100 samples, 10 features\n",
        "train_y = np.random.randint(0, 2, 100)           # Binary labels (0 or 1)\n",
        "test_feats_rescaled = np.random.randn(20, 10)    # 20 test samples, 10 features\n",
        "test_y = np.random.randint(0, 2, 20)             # True test labels\n",
        "\n",
        "# Call NN and Accuracy functions\n",
        "test_pred = NN(train_feats_rescaled, train_y, test_feats_rescaled)\n",
        "acc = Accuracy(test_y, test_pred)\n",
        "\n",
        "# Print the accuracy\n",
        "print(\"Accuracy after transform:\", acc * 100, \"%\")\n"
      ],
      "metadata": {
        "id": "DacqObdjDOl_",
        "outputId": "aa38ac6a-29c4-4f82-c72d-2d5a305d583e",
        "colab": {
          "base_uri": "https://localhost:8080/"
        }
      },
      "execution_count": null,
      "outputs": [
        {
          "output_type": "stream",
          "name": "stdout",
          "text": [
            "Accuracy after transform: 60.0 %\n"
          ]
        },
        {
          "output_type": "stream",
          "name": "stderr",
          "text": [
            "/usr/local/lib/python3.10/dist-packages/sklearn/neural_network/_multilayer_perceptron.py:691: ConvergenceWarning: Stochastic Optimizer: Maximum iterations (300) reached and the optimization hasn't converged yet.\n",
            "  warnings.warn(\n"
          ]
        }
      ]
    },
    {
      "cell_type": "markdown",
      "metadata": {
        "id": "7qYX90Gqg-jO"
      },
      "source": [
        "All 2D linear transformations can be repreented by a transformation matrix. So what is the matrix associated with the rescaling function? Actually, we cannot represent rescaling with a matrix multiplication, because it is not a linear transform. Rescaling involves shifting the origin of the data, which is not allowed under linear transformations.\n",
        "\n",
        "We can represent rescaling as a matrix multiplication followed by a vector addition. Let our first feature vector be called X and second feature vector be called Y. Suppose we want to rescale a data point [a,b]\n",
        "\n",
        "$$ \\begin{equation}\n",
        " \\left\\{  \\begin{aligned}a' \\\\ b' \\end{aligned} \\right\\} =\n",
        " \\left\\{  \\begin{aligned} \\frac{a - min(X)}{max(X) - min(X)} \\\\ \\frac{b - min(Y)}{max(Y) - min(Y)} \\end{aligned} \\right\\} =\n",
        " \\left\\{  \\begin{aligned}&\\frac{1}{max(X)-min(X)} &0\\\\ &0 &\\frac{1}{max(Y)-min(Y)} \\end{aligned}\n",
        " \\right\\}\\left\\{  \\begin{aligned}a \\\\ b \\end{aligned} \\right\\} +\n",
        " \\left\\{  \\begin{aligned} \\frac{ -min(X)}{max(X) - min(X)} \\\\ \\frac{-min(Y)}{max(Y) - min(Y)} \\end{aligned} \\right\\}\n",
        "\\end{equation}$$\n",
        "\n",
        "You can verify this yourself if you wish, though it is not necessary.\n",
        "\n"
      ]
    }
  ],
  "metadata": {
    "colab": {
      "provenance": [],
      "include_colab_link": true
    },
    "kernelspec": {
      "display_name": "Python 3",
      "name": "python3"
    },
    "language_info": {
      "codemirror_mode": {
        "name": "ipython",
        "version": 3
      },
      "file_extension": ".py",
      "mimetype": "text/x-python",
      "name": "python",
      "nbconvert_exporter": "python",
      "pygments_lexer": "ipython3",
      "version": "3.10.10"
    }
  },
  "nbformat": 4,
  "nbformat_minor": 0
}